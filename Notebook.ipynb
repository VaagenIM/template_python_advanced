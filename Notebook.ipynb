{
 "cells": [
  {
   "cell_type": "markdown",
   "source": [
    "# Notebook\n",
    "Dette er en Jupyter Notebook, her kan du dokumentere prosesser og kjøre kode i flere steg.\n",
    "\n",
    "En fin plass å teste ut, eller få ordlagt tankene dine."
   ],
   "metadata": {
    "collapsed": false,
    "pycharm": {
     "name": "#%% md\n"
    }
   }
  },
  {
   "cell_type": "code",
   "execution_count": null,
   "outputs": [],
   "source": [
    "print(\"Hello World!\")"
   ],
   "metadata": {
    "collapsed": false,
    "pycharm": {
     "name": "#%%\n",
     "is_executing": true
    }
   }
  },
  {
   "cell_type": "markdown",
   "source": [
    "# .gitignore\n",
    ".gitignore er en fil som definerer hvilke filer som IKKE skal lastes opp til GitHub.\n",
    "\n",
    "Inne i filen ligger en mal egnet til Python. Den viktigste filen å ikke laste opp er `.env`."
   ],
   "metadata": {
    "collapsed": false,
    "pycharm": {
     "name": "#%% md\n"
    }
   }
  },
  {
   "cell_type": "markdown",
   "source": [
    "# Dotenv (.env) - Sensitiv data\n",
    "For å bruke sensitiv informasjon i prosjektet ditt, som passord, API-nøkler eller annet, må du bruke en `.env` fil.\n",
    "Du finner en `.env-example` fil i `src` mappen, kopier denne med navnet `.env` og bruk den. Spør eventuelt Google eller læreren din.\n",
    "\n",
    "`.env` vil ikke lastes opp til GitHub, da den ligger i `.gitignore`. `.env-example` lastes derimot opp.\n",
    "\n",
    "I mappen finner du `.env-example` - denne skal inneholde tomme verdier som koden din bruker, slik at de som laster ned prosjektet kan kopiere det inn som en egen `.env` fil. Husk å skriv instrukser i README.md på hva `.env` skal inneholde.\n",
    "\n",
    "## Bruk av dotenv\n",
    "Først må vi installere pakken `python-dotenv`, denne må også legges til i `requirements.txt`:\n",
    "```bash\n",
    "pip install python-dotenv\n",
    "```\n",
    "\n",
    "Hvis vi ser for oss at `.env` har følgende verdier:\n",
    "```\n",
    "API=Hello World!\n",
    "```\n",
    "\n",
    "Vi laster den inn i koden via følgende snippet:"
   ],
   "metadata": {
    "collapsed": false,
    "pycharm": {
     "name": "#%% md\n"
    }
   }
  },
  {
   "cell_type": "code",
   "execution_count": null,
   "outputs": [],
   "source": [
    "import os\n",
    "from dotenv import dotenv_values\n",
    "ENV = dotenv_values(f'{os.path.dirname(__file__)}/.env')  # Finner .env i mappen til main.py\n",
    "\n",
    "print(ENV['API'])  # Hello World!"
   ],
   "metadata": {
    "collapsed": false,
    "pycharm": {
     "name": "#%%\n",
     "is_executing": true
    }
   }
  }
 ],
 "metadata": {
  "kernelspec": {
   "display_name": "Python 3",
   "language": "python",
   "name": "python3"
  },
  "language_info": {
   "codemirror_mode": {
    "name": "ipython",
    "version": 2
   },
   "file_extension": ".py",
   "mimetype": "text/x-python",
   "name": "python",
   "nbconvert_exporter": "python",
   "pygments_lexer": "ipython2",
   "version": "2.7.6"
  }
 },
 "nbformat": 4,
 "nbformat_minor": 0
}